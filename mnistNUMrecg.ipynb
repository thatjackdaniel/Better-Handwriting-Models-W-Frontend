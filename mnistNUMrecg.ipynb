{
 "cells": [
  {
   "cell_type": "code",
   "execution_count": 54,
   "id": "9c696390-788b-4baf-b2bf-86e0236ae482",
   "metadata": {},
   "outputs": [],
   "source": [
    "import tensorflow as tf\n",
    "from tensorflow import keras\n",
    "import numpy as np\n",
    "import matplotlib.pyplot as plt # This is all you need to import keras.datasets.mnist.load_data()"
   ]
  },
  {
   "cell_type": "raw",
   "id": "e368d9ec-5c90-489c-aa15-0c0df432d169",
   "metadata": {},
   "source": []
  },
  {
   "cell_type": "code",
   "execution_count": 56,
   "id": "81f45a48-b6a8-4eee-95fd-0b4e3500b556",
   "metadata": {},
   "outputs": [],
   "source": [
    "# these imports are for afer cell 92\n",
    "from keras.models import Sequential\n",
    "from keras.layers import Conv2D, MaxPooling2D, Flatten, Dense, Dropout, BatchNormalization"
   ]
  },
  {
   "cell_type": "code",
   "execution_count": 58,
   "id": "6e29a65a-7d3e-4790-a402-d88836a666e9",
   "metadata": {},
   "outputs": [],
   "source": [
    "pixel_width = 28\n",
    "pixel_height = 28\n",
    "batch_size = 32\n",
    "num_of_classes = 10\n",
    "epochs=10"
   ]
  },
  {
   "cell_type": "code",
   "execution_count": 60,
   "id": "72186f28-e25a-4da2-9f67-74574dbd45a2",
   "metadata": {},
   "outputs": [
    {
     "name": "stdout",
     "output_type": "stream",
     "text": [
      "(60000, 28, 28)\n"
     ]
    }
   ],
   "source": [
    "(features_train, labels_train), (features_test, labels_test) = keras.datasets.mnist.load_data()\n",
    "print(features_train.shape)"
   ]
  },
  {
   "cell_type": "code",
   "execution_count": 62,
   "id": "0d1deea7-38a8-4767-bb36-4c551e9e0aa8",
   "metadata": {},
   "outputs": [
    {
     "name": "stdout",
     "output_type": "stream",
     "text": [
      "(60000, 28, 28, 1)\n",
      "(10000, 28, 28, 1)\n"
     ]
    }
   ],
   "source": [
    "features_train = features_train.reshape(features_train.shape[0],pixel_width,pixel_height,1)\n",
    "print(features_train.shape)\n",
    "\n",
    "features_test = features_test.reshape(features_test.shape[0],pixel_width,pixel_height,1)\n",
    "print(features_test.shape)"
   ]
  },
  {
   "cell_type": "code",
   "execution_count": 64,
   "id": "89c45984-747a-4dd8-8deb-725c4783beb6",
   "metadata": {},
   "outputs": [],
   "source": [
    "input_shape = (pixel_width, pixel_height,1)"
   ]
  },
  {
   "cell_type": "code",
   "execution_count": 66,
   "id": "c829bac7-d79a-42e5-b420-4da025411023",
   "metadata": {},
   "outputs": [],
   "source": [
    "features_train =features_train.astype('float32')\n",
    "features_test =features_test.astype('float32')"
   ]
  },
  {
   "cell_type": "code",
   "execution_count": 68,
   "id": "64e1088c-133f-4e0f-a5d7-254e944ed914",
   "metadata": {},
   "outputs": [],
   "source": [
    "features_train /=255\n",
    "features_test /=255"
   ]
  },
  {
   "cell_type": "code",
   "execution_count": 70,
   "id": "358cce76-3fc3-4c36-855b-1ce34e229f04",
   "metadata": {},
   "outputs": [
    {
     "name": "stdout",
     "output_type": "stream",
     "text": [
      "2\n"
     ]
    }
   ],
   "source": [
    "print(labels_train[5])"
   ]
  },
  {
   "cell_type": "code",
   "execution_count": 72,
   "id": "52bf2525-4551-4d4e-bff3-d22bee45239b",
   "metadata": {},
   "outputs": [],
   "source": [
    "# flatten 2 into a binary class matrix\n",
    "labels_train=keras.utils.to_categorical(labels_train, num_of_classes)\n",
    "labels_test=keras.utils.to_categorical(labels_test,num_of_classes)"
   ]
  },
  {
   "cell_type": "code",
   "execution_count": 26,
   "id": "be961d47-a1fc-4ca4-bce4-27319e16a90d",
   "metadata": {},
   "outputs": [
    {
     "name": "stdout",
     "output_type": "stream",
     "text": [
      "[0. 0. 1. 0. 0. 0. 0. 0. 0. 0.]\n"
     ]
    }
   ],
   "source": [
    "print(labels_train[5])"
   ]
  },
  {
   "cell_type": "code",
   "execution_count": 78,
   "id": "5c3ac1c7-dfd1-4df6-9fe4-45a235792764",
   "metadata": {},
   "outputs": [],
   "source": [
    "# adding batch noramlization\n",
    "\n",
    "model = Sequential()\n",
    "model.add(Conv2D(32, kernel_size=(3,3),activation='relu',input_shape=input_shape))\n",
    "#print('POST CONV2D:', model.output_shape)\n",
    "model.add(MaxPooling2D(pool_size=(2,2)))\n",
    "#print('POST MAXPOOLING2D:', model.output_shape)\n",
    "model.add(Dropout(0.25))\n",
    "#print('POST DROPOUT:', model.output_shape)\n",
    "model.add(Flatten())\n",
    "#print('POST FLATTEN:', model.output_shape)\n",
    "model.add(BatchNormalization())\n",
    "#print('POST BatchNormalization:', model.output_shape)\n",
    "model.add(Dense(128,activation='relu'))\n",
    "#print('POST DENSE:', model.output_shape)\n",
    "model.add(Dense(num_of_classes,activation='softmax'))\n",
    "#print('POST SOFTMAX:', model.output_shape)\n",
    "\n",
    "model.compile(\n",
    "    loss=keras.losses.CategoricalCrossentropy(),  # Correct loss function\n",
    "    optimizer=keras.optimizers.Adadelta(), \n",
    "    metrics=['accuracy']\n",
    ")\n"
   ]
  },
  {
   "cell_type": "code",
   "execution_count": 50,
   "id": "6d37a604-7a57-475a-8373-15c2dddc1e02",
   "metadata": {},
   "outputs": [
    {
     "name": "stdout",
     "output_type": "stream",
     "text": [
      "Epoch 1/10\n",
      "\u001b[1m1875/1875\u001b[0m \u001b[32m━━━━━━━━━━━━━━━━━━━━\u001b[0m\u001b[37m\u001b[0m \u001b[1m39s\u001b[0m 20ms/step - accuracy: 0.2267 - loss: 2.2227 - val_accuracy: 0.7014 - val_loss: 1.1950\n",
      "Epoch 2/10\n",
      "\u001b[1m1875/1875\u001b[0m \u001b[32m━━━━━━━━━━━━━━━━━━━━\u001b[0m\u001b[37m\u001b[0m \u001b[1m38s\u001b[0m 20ms/step - accuracy: 0.6525 - loss: 1.2132 - val_accuracy: 0.8319 - val_loss: 0.7423\n",
      "Epoch 3/10\n",
      "\u001b[1m1875/1875\u001b[0m \u001b[32m━━━━━━━━━━━━━━━━━━━━\u001b[0m\u001b[37m\u001b[0m \u001b[1m38s\u001b[0m 20ms/step - accuracy: 0.7789 - loss: 0.8288 - val_accuracy: 0.8753 - val_loss: 0.5439\n",
      "Epoch 4/10\n",
      "\u001b[1m1875/1875\u001b[0m \u001b[32m━━━━━━━━━━━━━━━━━━━━\u001b[0m\u001b[37m\u001b[0m \u001b[1m39s\u001b[0m 21ms/step - accuracy: 0.8294 - loss: 0.6426 - val_accuracy: 0.8952 - val_loss: 0.4433\n",
      "Epoch 5/10\n",
      "\u001b[1m1875/1875\u001b[0m \u001b[32m━━━━━━━━━━━━━━━━━━━━\u001b[0m\u001b[37m\u001b[0m \u001b[1m40s\u001b[0m 20ms/step - accuracy: 0.8577 - loss: 0.5359 - val_accuracy: 0.9046 - val_loss: 0.3832\n",
      "Epoch 6/10\n",
      "\u001b[1m1875/1875\u001b[0m \u001b[32m━━━━━━━━━━━━━━━━━━━━\u001b[0m\u001b[37m\u001b[0m \u001b[1m39s\u001b[0m 21ms/step - accuracy: 0.8707 - loss: 0.4804 - val_accuracy: 0.9111 - val_loss: 0.3442\n",
      "Epoch 7/10\n",
      "\u001b[1m1875/1875\u001b[0m \u001b[32m━━━━━━━━━━━━━━━━━━━━\u001b[0m\u001b[37m\u001b[0m \u001b[1m40s\u001b[0m 21ms/step - accuracy: 0.8793 - loss: 0.4344 - val_accuracy: 0.9178 - val_loss: 0.3156\n",
      "Epoch 8/10\n",
      "\u001b[1m1875/1875\u001b[0m \u001b[32m━━━━━━━━━━━━━━━━━━━━\u001b[0m\u001b[37m\u001b[0m \u001b[1m41s\u001b[0m 22ms/step - accuracy: 0.8913 - loss: 0.3972 - val_accuracy: 0.9216 - val_loss: 0.2941\n",
      "Epoch 9/10\n",
      "\u001b[1m1875/1875\u001b[0m \u001b[32m━━━━━━━━━━━━━━━━━━━━\u001b[0m\u001b[37m\u001b[0m \u001b[1m39s\u001b[0m 21ms/step - accuracy: 0.8960 - loss: 0.3739 - val_accuracy: 0.9260 - val_loss: 0.2760\n",
      "Epoch 10/10\n",
      "\u001b[1m1875/1875\u001b[0m \u001b[32m━━━━━━━━━━━━━━━━━━━━\u001b[0m\u001b[37m\u001b[0m \u001b[1m43s\u001b[0m 23ms/step - accuracy: 0.9015 - loss: 0.3549 - val_accuracy: 0.9295 - val_loss: 0.2620\n"
     ]
    }
   ],
   "source": [
    "model.fit(features_train, labels_train,\n",
    "          batch_size=batch_size,\n",
    "          epochs=epochs, \n",
    "          verbose=1,\n",
    "          validation_data=(features_test, labels_test))\n",
    "\n",
    "score = model.evaluate(features_test, labels_test, verbose=0)"
   ]
  },
  {
   "cell_type": "code",
   "execution_count": 52,
   "id": "19e8bf78-5a72-49f4-8f18-a741467fc942",
   "metadata": {},
   "outputs": [
    {
     "name": "stdout",
     "output_type": "stream",
     "text": [
      "[0.26196545362472534, 0.9294999837875366]\n"
     ]
    }
   ],
   "source": [
    "print(score)"
   ]
  },
  {
   "cell_type": "code",
   "execution_count": 82,
   "id": "303a33b2-31e3-4657-948d-b637d5f3fc3d",
   "metadata": {},
   "outputs": [
    {
     "name": "stderr",
     "output_type": "stream",
     "text": [
      "WARNING:absl:You are saving your model as an HDF5 file via `model.save()` or `keras.saving.save_model(model)`. This file format is considered legacy. We recommend using instead the native Keras format, e.g. `model.save('my_model.keras')` or `keras.saving.save_model(model, 'my_model.keras')`. \n"
     ]
    }
   ],
   "source": [
    "model.save('C:\\\\Users\\\\admin\\\\handwriting_model.h5')"
   ]
  },
  {
   "cell_type": "code",
   "execution_count": null,
   "id": "c4877849-18a8-4259-a20a-1ffbc1fa2e98",
   "metadata": {},
   "outputs": [],
   "source": []
  }
 ],
 "metadata": {
  "kernelspec": {
   "display_name": "Python [conda env:mnist_env]",
   "language": "python",
   "name": "conda-env-mnist_env-py"
  },
  "language_info": {
   "codemirror_mode": {
    "name": "ipython",
    "version": 3
   },
   "file_extension": ".py",
   "mimetype": "text/x-python",
   "name": "python",
   "nbconvert_exporter": "python",
   "pygments_lexer": "ipython3",
   "version": "3.9.21"
  }
 },
 "nbformat": 4,
 "nbformat_minor": 5
}
