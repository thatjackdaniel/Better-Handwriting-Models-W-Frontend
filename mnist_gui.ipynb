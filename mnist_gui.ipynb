{
 "cells": [
  {
   "cell_type": "code",
   "execution_count": 1,
   "id": "1df33bca-55e0-4240-8561-eefdfc906672",
   "metadata": {},
   "outputs": [
    {
     "name": "stdout",
     "output_type": "stream",
     "text": [
      "Defaulting to user installation because normal site-packages is not writeable\n",
      "Collecting pyqt5\n",
      "  Using cached PyQt5-5.15.11-cp38-abi3-win_amd64.whl.metadata (2.1 kB)\n",
      "Collecting PyQt5-sip<13,>=12.15 (from pyqt5)\n",
      "  Downloading PyQt5_sip-12.17.0-cp39-cp39-win_amd64.whl.metadata (492 bytes)\n",
      "Collecting PyQt5-Qt5<5.16.0,>=5.15.2 (from pyqt5)\n",
      "  Using cached PyQt5_Qt5-5.15.2-py3-none-win_amd64.whl.metadata (552 bytes)\n",
      "Using cached PyQt5-5.15.11-cp38-abi3-win_amd64.whl (6.9 MB)\n",
      "Using cached PyQt5_Qt5-5.15.2-py3-none-win_amd64.whl (50.1 MB)\n",
      "Downloading PyQt5_sip-12.17.0-cp39-cp39-win_amd64.whl (59 kB)\n",
      "Installing collected packages: PyQt5-Qt5, PyQt5-sip, pyqt5\n",
      "Successfully installed PyQt5-Qt5-5.15.2 PyQt5-sip-12.17.0 pyqt5-5.15.11\n"
     ]
    },
    {
     "name": "stderr",
     "output_type": "stream",
     "text": [
      "  WARNING: The scripts pylupdate5.exe, pyrcc5.exe and pyuic5.exe are installed in 'C:\\Users\\admin\\AppData\\Roaming\\Python\\Python39\\Scripts' which is not on PATH.\n",
      "  Consider adding this directory to PATH or, if you prefer to suppress this warning, use --no-warn-script-location.\n"
     ]
    }
   ],
   "source": [
    "!pip install pyqt5\n"
   ]
  },
  {
   "cell_type": "code",
   "execution_count": 3,
   "id": "d97e41a6-f69c-4790-bb2c-91567ae78b57",
   "metadata": {},
   "outputs": [
    {
     "name": "stdout",
     "output_type": "stream",
     "text": [
      "4.11.0\n",
      "PyQt5 installed successfully!\n"
     ]
    }
   ],
   "source": [
    "import cv2\n",
    "print(cv2.__version__)\n",
    "import PyQt5\n",
    "print(\"PyQt5 installed successfully!\")\n",
    "\n"
   ]
  },
  {
   "cell_type": "code",
   "execution_count": 8,
   "id": "35ef4d13-2817-462c-86ac-b09588c504bf",
   "metadata": {},
   "outputs": [
    {
     "name": "stderr",
     "output_type": "stream",
     "text": [
      "WARNING:absl:Compiled the loaded model, but the compiled metrics have yet to be built. `model.compile_metrics` will be empty until you train or evaluate the model.\n"
     ]
    },
    {
     "ename": "RuntimeError",
     "evalue": "wrapped C/C++ object of type DrawApp has been deleted",
     "output_type": "error",
     "traceback": [
      "\u001b[1;31m---------------------------------------------------------------------------\u001b[0m",
      "\u001b[1;31mRuntimeError\u001b[0m                              Traceback (most recent call last)",
      "Cell \u001b[1;32mIn[8], line 81\u001b[0m\n\u001b[0;32m     79\u001b[0m app \u001b[38;5;241m=\u001b[39m QApplication(sys\u001b[38;5;241m.\u001b[39margv)\n\u001b[0;32m     80\u001b[0m window \u001b[38;5;241m=\u001b[39m DrawApp()\n\u001b[1;32m---> 81\u001b[0m \u001b[43mwindow\u001b[49m\u001b[38;5;241;43m.\u001b[39;49m\u001b[43mshow\u001b[49m\u001b[43m(\u001b[49m\u001b[43m)\u001b[49m\n\u001b[0;32m     82\u001b[0m sys\u001b[38;5;241m.\u001b[39mexit(app\u001b[38;5;241m.\u001b[39mexec_())\n",
      "\u001b[1;31mRuntimeError\u001b[0m: wrapped C/C++ object of type DrawApp has been deleted"
     ]
    }
   ],
   "source": [
    "import sys\n",
    "import numpy as np\n",
    "import cv2\n",
    "import tensorflow as tf\n",
    "from PyQt5.QtWidgets import QApplication, QWidget, QPushButton, QLabel\n",
    "from PyQt5.QtGui import QPainter, QPen, QImage\n",
    "from PyQt5.QtCore import Qt, QPoint\n",
    "\n",
    "class DrawApp(QWidget):\n",
    "    def __init__(self):\n",
    "        super().__init__()\n",
    "\n",
    "        self.setWindowTitle(\"Draw a Number\")\n",
    "        self.setGeometry(100, 100, 400, 400)\n",
    "        self.setStyleSheet(\"background-color: white;\")\n",
    "\n",
    "        self.image = QImage(400, 400, QImage.Format_RGB32)\n",
    "        self.image.fill(Qt.white)\n",
    "\n",
    "        self.clear_button = QPushButton(\"Clear\", self)\n",
    "        self.clear_button.setGeometry(150, 350, 100, 40)\n",
    "        self.clear_button.clicked.connect(self.clear_canvas)\n",
    "\n",
    "        self.predict_button = QPushButton(\"Predict\", self)\n",
    "        self.predict_button.setGeometry(260, 350, 100, 40)\n",
    "        self.predict_button.clicked.connect(self.predict_digit)\n",
    "\n",
    "        self.result_label = QLabel(\"Prediction: \", self)\n",
    "        self.result_label.setGeometry(20, 360, 120, 30)\n",
    "\n",
    "        self.model = tf.keras.models.load_model(\"model.h5\")  # Load your trained model\n",
    "\n",
    "        self.drawing = False\n",
    "        self.last_point = QPoint()\n",
    "\n",
    "    def mousePressEvent(self, event):\n",
    "        if event.button() == Qt.LeftButton:\n",
    "            self.drawing = True\n",
    "            self.last_point = event.pos()\n",
    "\n",
    "    def mouseMoveEvent(self, event):\n",
    "        if self.drawing and event.buttons() & Qt.LeftButton:\n",
    "            painter = QPainter(self.image)\n",
    "            pen = QPen(Qt.black, 20, Qt.SolidLine, Qt.RoundCap, Qt.RoundJoin)\n",
    "            painter.setPen(pen)\n",
    "            painter.drawLine(self.last_point, event.pos())\n",
    "            self.last_point = event.pos()\n",
    "            self.update()\n",
    "\n",
    "    def mouseReleaseEvent(self, event):\n",
    "        if event.button() == Qt.LeftButton:\n",
    "            self.drawing = False\n",
    "\n",
    "    def paintEvent(self, event):\n",
    "        canvas = QPainter(self)\n",
    "        canvas.drawImage(self.rect(), self.image, self.image.rect())\n",
    "\n",
    "    def clear_canvas(self):\n",
    "        self.image.fill(Qt.white)\n",
    "        self.update()\n",
    "\n",
    "    def preprocess_image(self):\n",
    "        img = self.image.convertToFormat(QImage.Format_Grayscale8)\n",
    "        buffer = img.bits().asarray(400 * 400)\n",
    "        img_array = np.array(buffer, dtype=np.uint8).reshape(400, 400)\n",
    "\n",
    "        img_resized = cv2.resize(img_array, (28, 28))\n",
    "        img_resized = img_resized.astype(\"float32\") / 255.0\n",
    "        img_resized = np.expand_dims(img_resized, axis=(0, -1))  # Make it (1, 28, 28, 1)\n",
    "        return img_resized\n",
    "\n",
    "    def predict_digit(self):\n",
    "        processed_img = self.preprocess_image()\n",
    "        prediction = self.model.predict(processed_img)\n",
    "        digit = np.argmax(prediction)\n",
    "        self.result_label.setText(f\"Prediction: {digit}\")\n",
    "\n",
    "if __name__ == \"__main__\":\n",
    "    app = QApplication(sys.argv)\n",
    "    window = DrawApp()\n",
    "    window.show()\n",
    "    sys.exit(app.exec_())\n"
   ]
  },
  {
   "cell_type": "code",
   "execution_count": null,
   "id": "78a51534-12ac-4ec8-865e-30b6cbf3919e",
   "metadata": {},
   "outputs": [],
   "source": []
  }
 ],
 "metadata": {
  "kernelspec": {
   "display_name": "Python [conda env:mnist_env]",
   "language": "python",
   "name": "conda-env-mnist_env-py"
  },
  "language_info": {
   "codemirror_mode": {
    "name": "ipython",
    "version": 3
   },
   "file_extension": ".py",
   "mimetype": "text/x-python",
   "name": "python",
   "nbconvert_exporter": "python",
   "pygments_lexer": "ipython3",
   "version": "3.9.21"
  }
 },
 "nbformat": 4,
 "nbformat_minor": 5
}
